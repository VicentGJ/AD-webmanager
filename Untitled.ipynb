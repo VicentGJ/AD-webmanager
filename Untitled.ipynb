{
 "cells": [
  {
   "cell_type": "code",
   "execution_count": 7,
   "id": "c3b252f6-d699-4327-bb3f-04db7e10b96a",
   "metadata": {},
   "outputs": [],
   "source": [
    "kwargs = ['base']"
   ]
  },
  {
   "cell_type": "code",
   "execution_count": 49,
   "id": "105d1b53-f2b7-49d6-a31b-561c05c7ea43",
   "metadata": {},
   "outputs": [
    {
     "name": "stdout",
     "output_type": "stream",
     "text": [
      "streeAddress:\n"
     ]
    },
    {
     "ename": "KeyError",
     "evalue": "'streeAddress'",
     "output_type": "error",
     "traceback": [
      "\u001b[0;31m---------------------------------------------------------------------------\u001b[0m",
      "\u001b[0;31mKeyError\u001b[0m                                  Traceback (most recent call last)",
      "\u001b[0;32m/tmp/ipykernel_36652/827718232.py\u001b[0m in \u001b[0;36m<module>\u001b[0;34m\u001b[0m\n\u001b[1;32m      7\u001b[0m \u001b[0mprint\u001b[0m\u001b[0;34m(\u001b[0m\u001b[0;34mf'{attr}:{value}'\u001b[0m\u001b[0;34m)\u001b[0m\u001b[0;34m\u001b[0m\u001b[0;34m\u001b[0m\u001b[0m\n\u001b[1;32m      8\u001b[0m \u001b[0mentries\u001b[0m \u001b[0;34m=\u001b[0m \u001b[0mfilter\u001b[0m\u001b[0;34m(\u001b[0m\u001b[0;32mlambda\u001b[0m \u001b[0mentry\u001b[0m\u001b[0;34m:\u001b[0m \u001b[0mattr\u001b[0m \u001b[0;32min\u001b[0m \u001b[0mentry\u001b[0m \u001b[0;32mand\u001b[0m \u001b[0mvalue\u001b[0m \u001b[0;32min\u001b[0m \u001b[0mstr\u001b[0m\u001b[0;34m(\u001b[0m\u001b[0mentry\u001b[0m\u001b[0;34m[\u001b[0m\u001b[0mattr\u001b[0m\u001b[0;34m]\u001b[0m\u001b[0;34m)\u001b[0m\u001b[0;34m.\u001b[0m\u001b[0mlower\u001b[0m\u001b[0;34m(\u001b[0m\u001b[0;34m)\u001b[0m \u001b[0;32mif\u001b[0m \u001b[0mvalue\u001b[0m \u001b[0;34m!=\u001b[0m \u001b[0;34m\"\"\u001b[0m \u001b[0;32melse\u001b[0m \u001b[0mvalue\u001b[0m \u001b[0;34m==\u001b[0m \u001b[0mstr\u001b[0m\u001b[0;34m(\u001b[0m\u001b[0mentry\u001b[0m\u001b[0;34m[\u001b[0m\u001b[0mattr\u001b[0m\u001b[0;34m]\u001b[0m\u001b[0;34m)\u001b[0m\u001b[0;34m.\u001b[0m\u001b[0mlower\u001b[0m\u001b[0;34m(\u001b[0m\u001b[0;34m)\u001b[0m\u001b[0;34m,\u001b[0m \u001b[0mentries\u001b[0m\u001b[0;34m)\u001b[0m\u001b[0;34m\u001b[0m\u001b[0;34m\u001b[0m\u001b[0m\n\u001b[0;32m----> 9\u001b[0;31m entries: typing.List[typing.Dict] = sorted(\n\u001b[0m\u001b[1;32m     10\u001b[0m                 \u001b[0mentries\u001b[0m\u001b[0;34m,\u001b[0m\u001b[0;34m\u001b[0m\u001b[0;34m\u001b[0m\u001b[0m\n\u001b[1;32m     11\u001b[0m                 \u001b[0mkey\u001b[0m\u001b[0;34m=\u001b[0m\u001b[0;32mlambda\u001b[0m \u001b[0mentry\u001b[0m\u001b[0;34m:\u001b[0m \u001b[0mentry\u001b[0m\u001b[0;34m[\u001b[0m\u001b[0;34m'displayName'\u001b[0m\u001b[0;34m]\u001b[0m \u001b[0;32mif\u001b[0m \u001b[0;34m'displayName'\u001b[0m \u001b[0;32min\u001b[0m \u001b[0mentry\u001b[0m \u001b[0;32melse\u001b[0m \u001b[0;36m1\u001b[0m\u001b[0;34m==\u001b[0m\u001b[0;36m1\u001b[0m\u001b[0;34m\u001b[0m\u001b[0;34m\u001b[0m\u001b[0m\n",
      "\u001b[0;32m/tmp/ipykernel_36652/827718232.py\u001b[0m in \u001b[0;36m<lambda>\u001b[0;34m(entry)\u001b[0m\n\u001b[1;32m      6\u001b[0m \u001b[0mvalue\u001b[0m \u001b[0;34m=\u001b[0m \u001b[0mstr\u001b[0m\u001b[0;34m(\u001b[0m\u001b[0mnew_filter\u001b[0m\u001b[0;34m[\u001b[0m\u001b[0;36m1\u001b[0m\u001b[0;34m]\u001b[0m\u001b[0;34m)\u001b[0m\u001b[0;34m.\u001b[0m\u001b[0mreplace\u001b[0m\u001b[0;34m(\u001b[0m\u001b[0;34m'\"'\u001b[0m\u001b[0;34m,\u001b[0m \u001b[0;34m''\u001b[0m\u001b[0;34m)\u001b[0m\u001b[0;34m.\u001b[0m\u001b[0mlower\u001b[0m\u001b[0;34m(\u001b[0m\u001b[0;34m)\u001b[0m\u001b[0;34m\u001b[0m\u001b[0;34m\u001b[0m\u001b[0m\n\u001b[1;32m      7\u001b[0m \u001b[0mprint\u001b[0m\u001b[0;34m(\u001b[0m\u001b[0;34mf'{attr}:{value}'\u001b[0m\u001b[0;34m)\u001b[0m\u001b[0;34m\u001b[0m\u001b[0;34m\u001b[0m\u001b[0m\n\u001b[0;32m----> 8\u001b[0;31m \u001b[0mentries\u001b[0m \u001b[0;34m=\u001b[0m \u001b[0mfilter\u001b[0m\u001b[0;34m(\u001b[0m\u001b[0;32mlambda\u001b[0m \u001b[0mentry\u001b[0m\u001b[0;34m:\u001b[0m \u001b[0mattr\u001b[0m \u001b[0;32min\u001b[0m \u001b[0mentry\u001b[0m \u001b[0;32mand\u001b[0m \u001b[0mvalue\u001b[0m \u001b[0;32min\u001b[0m \u001b[0mstr\u001b[0m\u001b[0;34m(\u001b[0m\u001b[0mentry\u001b[0m\u001b[0;34m[\u001b[0m\u001b[0mattr\u001b[0m\u001b[0;34m]\u001b[0m\u001b[0;34m)\u001b[0m\u001b[0;34m.\u001b[0m\u001b[0mlower\u001b[0m\u001b[0;34m(\u001b[0m\u001b[0;34m)\u001b[0m \u001b[0;32mif\u001b[0m \u001b[0mvalue\u001b[0m \u001b[0;34m!=\u001b[0m \u001b[0;34m\"\"\u001b[0m \u001b[0;32melse\u001b[0m \u001b[0mvalue\u001b[0m \u001b[0;34m==\u001b[0m \u001b[0mstr\u001b[0m\u001b[0;34m(\u001b[0m\u001b[0mentry\u001b[0m\u001b[0;34m[\u001b[0m\u001b[0mattr\u001b[0m\u001b[0;34m]\u001b[0m\u001b[0;34m)\u001b[0m\u001b[0;34m.\u001b[0m\u001b[0mlower\u001b[0m\u001b[0;34m(\u001b[0m\u001b[0;34m)\u001b[0m\u001b[0;34m,\u001b[0m \u001b[0mentries\u001b[0m\u001b[0;34m)\u001b[0m\u001b[0;34m\u001b[0m\u001b[0;34m\u001b[0m\u001b[0m\n\u001b[0m\u001b[1;32m      9\u001b[0m entries: typing.List[typing.Dict] = sorted(\n\u001b[1;32m     10\u001b[0m                 \u001b[0mentries\u001b[0m\u001b[0;34m,\u001b[0m\u001b[0;34m\u001b[0m\u001b[0;34m\u001b[0m\u001b[0m\n",
      "\u001b[0;31mKeyError\u001b[0m: 'streeAddress'"
     ]
    }
   ],
   "source": [
    "import typing\n",
    "entries = [{'objectClass': ['top', 'person', 'organizationalPerson', 'user', 'inetOrgPerson'], 'cn': '98092507165', 'sn': 'García Almaguer', 'o': 'Facultad de Ingeniería Eléctrica', 'telephoneNumber': '(5) 535-85-17', 'givenName': 'Jorge', 'instanceType': '4', 'whenCreated': '20191224001237.0Z', 'displayName': 'Jorge García Almaguer', 'uSNCreated': '11267', 'streetAddress': 'Avenida 25 e/Calle 238 y Calle 240,Edificio 23808 apto3, San Agustín', 'name': 'Jorge García Almaguer', 'objectGUID': '058c87ff-67b3-41c9-8394-1e38e7a1ef46', 'userAccountControl': 512, 'codePage': '0', 'countryCode': '0', 'primaryGroupID': '513', 'objectSid': 'S-1-5-21-1816460633-744260477-2445934637-44391', 'accountExpires': '9223372036854775807', 'sAMAccountName': 'fejgarcia.almaguer', 'sAMAccountType': '805306368', 'otherMailbox': ['jgarcia.almaguer@fecrd.cujae.edu.cu'], 'objectCategory': 'CN=Person,CN=Schema,CN=Configuration,DC=cujae,DC=edu,DC=cu', 'mail': 'jgarcia.almaguer@electrica.cujae.edu.cu', 'cUJAEPersonType': 'Student', 'cUJAEPersonDNI': '98092507165', 'cUJAEPersonExternal': 'FALSE', 'cUJAEStudentTemporal': 'FALSE', 'cUJAEStudentCourse': 'Curso Diurno', 'cUJAEStudentYear': '3', 'cUJAEStudentGroup': '32', 'cUJAEDataProvider': 'Sigenu', 'lastLogonTimestamp': '132757543482190210', 'whenChanged': '20210915145721.0Z', 'uSNChanged': '104336', 'pwdLastSet': '132761914414335820', 'distinguishedName': 'CN=98092507165,OU=Facultad de Ingenieria Electrica,DC=cujae,DC=edu,DC=cu', '__primaryGroup': 'CN=Domain Users,CN=Users,DC=cujae,DC=edu,DC=cu', '__description': 'fejgarcia.almaguer', '__target': '/tree/CN%3D98092507165%2COU%3DFacultad%20de%20Ingenieria%20Electrica%2CDC%3Dcujae%2CDC%3Dedu%2CDC%3Dcu', '__type': 'Usuario', 'active': 'Activo'}, {'objectClass': ['top', 'person', 'organizationalPerson', 'user', 'inetOrgPerson'], 'cn': '98022507462', 'sn': 'Fernández Medina', 'o': 'Facultad de Ingenieria Informatica', 'telephoneNumber': '(7) 643-24-63', 'givenName': 'Kevin de Jesús', 'instanceType': '4', 'whenCreated': '20191224000852.0Z', 'whenChanged': '20210524161951.0Z', 'displayName': 'Kevin De Jesús Fernández Medina', 'uSNCreated': '11942', 'uSNChanged': '11942', 'streetAddress': 'Calle Porvenir # 3 e/ Calle Atlanta y Calle 10 de Octubre, La Palma', 'name': 'Kevin De Jesús Fernández Medina', 'objectGUID': '094dd8ff-9edd-46c3-8565-d46477302d12', 'userAccountControl': 512, 'codePage': '0', 'countryCode': '0', 'pwdLastSet': '132603404152971400', 'primaryGroupID': '513', 'objectSid': 'S-1-5-21-1816460633-744260477-2445934637-43332', 'accountExpires': '9223372036854775807', 'sAMAccountName': 'cekfernandezm', 'sAMAccountType': '805306368', 'otherMailbox': ['kfernandezm@ceis.cujae.edu.cu'], 'objectCategory': 'CN=Person,CN=Schema,CN=Configuration,DC=cujae,DC=edu,DC=cu', 'lastLogonTimestamp': '132663467913833270', 'mail': 'kfernandezm@ceis.cujae.edu.cu', 'cUJAEPersonType': 'Student', 'cUJAEPersonDNI': '98022507462', 'cUJAEPersonExternal': 'FALSE', 'cUJAEStudentTemporal': 'FALSE', 'cUJAEStudentCourse': 'Curso Diurno', 'cUJAEStudentYear': '5', 'cUJAEStudentGroup': '52', 'cUJAEDataProvider': 'Sigenu', 'distinguishedName': 'CN=98022507462,OU=Facultad de Ingenieria Informatica,DC=cujae,DC=edu,DC=cu', '__primaryGroup': 'CN=Domain Users,CN=Users,DC=cujae,DC=edu,DC=cu', '__description': 'cekfernandezm', '__target': '/tree/CN%3D98022507462%2COU%3DFacultad%20de%20Ingenieria%20Informatica%2CDC%3Dcujae%2CDC%3Dedu%2CDC%3Dcu', '__type': 'Usuario', 'active': 'Activo'}]\n",
    "filt = \"streeAddress:\"\n",
    "new_filter = filt.split(\":\")\n",
    "attr = new_filter[0]\n",
    "value = str(new_filter[1]).replace('\"', '').lower()\n",
    "print(f'{attr}:{value}')\n",
    "entries = filter(lambda entry: attr in entry and value in str(entry[attr]).lower() if value != \"\" else value == str(entry[attr]).lower(), entries)\n",
    "entries: typing.List[typing.Dict] = sorted(\n",
    "                entries,\n",
    "                key=lambda entry: entry['displayName'] if 'displayName' in entry else 1==1\n",
    "            )\n",
    "print(len(entries))\n",
    "\n"
   ]
  }
 ],
 "metadata": {
  "kernelspec": {
   "display_name": "Python 3 (ipykernel)",
   "language": "python",
   "name": "python3"
  },
  "language_info": {
   "codemirror_mode": {
    "name": "ipython",
    "version": 3
   },
   "file_extension": ".py",
   "mimetype": "text/x-python",
   "name": "python",
   "nbconvert_exporter": "python",
   "pygments_lexer": "ipython3",
   "version": "3.9.7"
  }
 },
 "nbformat": 4,
 "nbformat_minor": 5
}
